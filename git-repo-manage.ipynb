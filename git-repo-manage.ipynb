{
  "nbformat": 4,
  "nbformat_minor": 5,
  "metadata": {
    "kernel_info": {
      "name": "python3.9-noteable"
    },
    "kernelspec": {
      "display_name": "Python 3.9 (Noteable)",
      "identifier": "noteable",
      "language": "python",
      "language_version": "3.9",
      "name": "python3.9-noteable"
    },
    "selected_hardware_size": "small",
    "noteable": {
      "db_connection": "@noteable"
    }
  },
  "cells": [
    {
      "id": "edc686c1",
      "cell_type": "code",
      "metadata": {
        "noteable": {
          "cell_type": "python"
        }
      },
      "execution_count": null,
      "source": "git fetch upstream",
      "outputs": []
    },
    {
      "id": "c705f23f-da65-4c0c-92f0-101e705cdb54",
      "cell_type": "code",
      "metadata": {
        "noteable": {
          "cell_type": "code",
          "output_collection_id": "a456b858-98d9-436c-a257-559cc6c50d9d"
        },
        "ExecuteTime": {
          "end_time": "2023-11-19T07:37:51.734997+00:00",
          "start_time": "2023-11-19T07:37:51.279928+00:00"
        }
      },
      "execution_count": null,
      "source": "!git fetch upstream",
      "outputs": []
    }
  ]
}
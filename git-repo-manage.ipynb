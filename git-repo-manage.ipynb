{
  "nbformat": 4,
  "nbformat_minor": 5,
  "metadata": {
    "kernel_info": {
      "name": "python3.9-noteable"
    },
    "kernelspec": {
      "display_name": "Python 3.9 (Noteable)",
      "identifier": "noteable",
      "language": "python",
      "language_version": "3.9",
      "name": "python3.9-noteable"
    },
    "selected_hardware_size": "small"
  },
  "cells": [
    {
      "id": "edc686c1",
      "cell_type": "code",
      "metadata": {
        "noteable": {
          "output_collection_id": "892ffca8-1537-4411-b5c2-51f4b4f71b94"
        },
        "ExecuteTime": {
          "end_time": "2023-11-19T07:30:56.952985+00:00",
          "start_time": "2023-11-19T07:30:56.796628+00:00"
        }
      },
      "execution_count": null,
      "source": "git fetch upstream",
      "outputs": []
    }
  ]
}
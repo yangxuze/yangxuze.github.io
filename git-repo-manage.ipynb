{
  "nbformat": 4,
  "nbformat_minor": 5,
  "metadata": {
    "kernel_info": {
      "name": "python3.9-noteable"
    },
    "kernelspec": {
      "display_name": "Python 3.9 (Noteable)",
      "identifier": "noteable",
      "language": "python",
      "language_version": "3.9",
      "name": "python3.9-noteable"
    },
    "selected_hardware_size": "small"
  },
  "cells": [
    {
      "id": "edc686c1",
      "cell_type": "code",
      "metadata": {
        "noteable": {
          "output_collection_id": "96032e9c-cc22-4392-8c24-6d4706b9153f"
        },
        "ExecuteTime": {
          "end_time": "2023-11-19T07:28:30.255941+00:00",
          "start_time": "2023-11-19T07:28:29.640300+00:00"
        }
      },
      "execution_count": null,
      "source": "%%bash\ngit fetch upstream\ngit diff upstream/<branch> noteable/<branch> --name-status",
      "outputs": []
    }
  ]
}
{
  "nbformat": 4,
  "nbformat_minor": 5,
  "metadata": {
    "kernel_info": {
      "name": "python3.9-noteable"
    },
    "kernelspec": {
      "display_name": "Python 3.9 (Noteable)",
      "identifier": "noteable",
      "language": "python",
      "language_version": "3.9",
      "name": "python3.9-noteable"
    },
    "selected_hardware_size": "small",
    "noteable": {
      "db_connection": "@noteable"
    }
  },
  "cells": [
    {
      "id": "edc686c1",
      "cell_type": "code",
      "metadata": {
        "noteable": {
          "cell_type": "python"
        }
      },
      "execution_count": null,
      "source": "git fetch upstream",
      "outputs": []
    }
  ]
}
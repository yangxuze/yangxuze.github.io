{
  "nbformat": 4,
  "nbformat_minor": 5,
  "metadata": {
    "noteable-chatgpt": {
      "create_notebook": {
        "openai_conversation_id": "10ac13c5-8408-5140-8da0-6d4fe2f0adb8",
        "openai_ephemeral_user_id": "abef17b9-ee2a-5ab3-bf7d-6eb8d5bc6f2e",
        "openai_subdivision1_iso_code": "JP-13"
      }
    },
    "kernel_info": {
      "name": "python3"
    },
    "kernelspec": {
      "display_name": "Python 3.9",
      "identifier": "legacy",
      "language": "python",
      "language_version": "3.9",
      "name": "python3"
    },
    "selected_hardware_size": "small"
  },
  "cells": [
    {
      "id": "2cb549bd-33ed-4739-96d3-a4a36d05b5c8",
      "cell_type": "code",
      "metadata": {
        "jupyter": {
          "outputs_hidden": false,
          "source_hidden": false
        },
        "noteable": {
          "cell_type": "code"
        }
      },
      "execution_count": null,
      "source": "",
      "outputs": []
    },
    {
      "id": "91885d00-468d-4eb6-8a4b-4efef39fddf7",
      "cell_type": "code",
      "metadata": {
        "noteable": {
          "cell_type": "code",
          "output_collection_id": "4d5453b5-ddfb-4bb0-8bc2-741a0cebbe56"
        },
        "ExecuteTime": {
          "end_time": "2023-11-19T07:41:48.118825+00:00",
          "start_time": "2023-11-19T07:41:47.662325+00:00"
        }
      },
      "execution_count": null,
      "source": "!git status",
      "outputs": []
    }
  ]
}